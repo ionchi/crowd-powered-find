{
 "cells": [
  {
   "cell_type": "markdown",
   "metadata": {},
   "source": [
    "# NightCrawler\n",
    "\n",
    "Patrizio Di Fraia\n",
    "\n",
    "Ion Chiriac\n",
    "\n",
    "Andrea D'Antonio *\n",
    "\n",
    "Aref Ghazouani *"
   ]
  },
  {
   "cell_type": "markdown",
   "metadata": {},
   "source": [
    "# Crowd-Powered Find Algorithms"
   ]
  },
  {
   "cell_type": "markdown",
   "metadata": {
    "colab_type": "text",
    "id": "lfSGmE3GDSgi"
   },
   "source": [
    "\n",
    "\n",
    "Il campo del crowdsourcing, combina le capacità computazionali delle macchine e dell'uomo per risolvere problemi che potrebbero essere difficili ai due se presi singolarmente.\n",
    "Uno scenario tipico è quello dell'uomo che individua degli elementi all'interno di immagini o video, operazione che non risulta seplice da eseguire per un calcolatore elettronico.\n",
    "\n",
    "L'algoritmo di CrowFind è uno strumento che si abbina al crowdsourcing per determinare il giusto numero di domande da fare e come farle.\n",
    "\n",
    "ALGORITMO BASE DI CROWDFIND : \n",
    "dato un numero di oggetti una proprietà booleana P, un numero K, attraverso domande fatte agli umani si vogliono trovare K oggetti che soddisfano P. \n",
    "\n",
    "E' importante precisare che non esiste un'unica soluzione ne una soluzione che sia la migliore,  ci sono invece varie implementazioni che tendono conto del tradeoff tra costo e tempo.\n",
    "\n",
    "Scenario sequenziale: viene fatta una domanda per volta finchè non si arriva a K oggetti che soddisfano P. Costo minimo ma tempo elevato.\n",
    "\n",
    "Scenario parallelo: vengono mostrate tutte le immagini in parallelo in unica fase. Tempo minimo ma costo massimo.\n",
    "\n",
    "Esistono inoltre scenari ibridi in cui si possono settare delle soglie entro cui potersi muovere o in termine di fasi o di domande.\n",
    "\n",
    "Tutto ciò tiene conto di due possbili scenari: quando l'umano non sbaglia mai(ideale ma irreale), e quando l'uomo può sbagliare nel rispondere.\n",
    "\n",
    "Per stabilire in questo secondo caso se un oggetto gode o meno della proprietà P,  vengono fatte più domande sullo stesso oggetto, e vengono utilizzate  delle strategie per determinare il risultato (nel paper Rectangular, Majority e Treshold). \n",
    "Ogni punto della strategia viene individuato dalla coppia (n1,n2)  dove n1= numero di risposte Yes per l'oggetto  e n2= numero di risposte No.\n",
    "Per ognuno di questi punti viene calcolato il costo aspettato Y(n1,n2), che serve per scegliere se per trovare il prossimo oggetto che soddisfa la proprietà conviene continuare a fare domande su quell'oggetto oppure scartarlo e passare ad esaminarne un altro.\n",
    "La Y tiene conto della selettività a priori e dell'errore rate che si considera essere uguale per ogni utente.\n",
    "\n",
    "\n",
    "\n",
    "\n"
   ]
  },
  {
   "cell_type": "markdown",
   "metadata": {
    "colab_type": "text",
    "id": "6uvpZIASRabm"
   },
   "source": [
    "# Algoritmo UncOptCost"
   ]
  },
  {
   "cell_type": "markdown",
   "metadata": {
    "colab_type": "text",
    "id": "VkryZOhfQ-W6"
   },
   "source": [
    "\n",
    "\n",
    "```\n",
    "Data: I, K1 , Pr(⋅), strategy S\n",
    "Result: Set L of K 1 1 items\n",
    "L ← ∅;\n",
    "U = I;\n",
    "Compute Y for each point in the strategy R;\n",
    "while ∣L∣ < K 1 do\n",
    "    Pick I ′ ⊆ U , ∣I ′ ∣ = (K 1 − ∣L∣) items with the lowest Y (R(I));\n",
    "    CQ ← {};\n",
    "    for each I ∈ I ′ do\n",
    "        Let n+ be the fewest YES responses required to make Y (R(I)) = 0;\n",
    "        Let n− be the fewest NO responses required to make\n",
    "        Y (R(I)) = Y (0, 0);\n",
    "        Add min{n + , n − } questions on I to CQ;\n",
    "    Ask CQ in parallel to the crowdsourcing service;\n",
    "    Update R(I) for each I ∈ CQ based on answers;\n",
    "    for each I ∈ CQ do\n",
    "        if S(R(I)) = 1 then\n",
    "            Remove I from U and add it to L;\n",
    "        if S(R(I)) = 0 then\n",
    "            Remove I from U ;\n",
    "```\n",
    "\n"
   ]
  },
  {
   "cell_type": "markdown",
   "metadata": {
    "colab_type": "text",
    "id": "H4FoHK7dazwA"
   },
   "source": [
    "## Calcolo delle probabilità"
   ]
  },
  {
   "cell_type": "code",
   "execution_count": 1,
   "metadata": {
    "colab": {
     "autoexec": {
      "startup": false,
      "wait_interval": 0
     }
    },
    "colab_type": "code",
    "id": "6jsNvuEXa4un"
   },
   "outputs": [],
   "source": [
    "def p_n1n2_if_true(n1, n2):\n",
    "    return ((1 - errorRate) ** n1) * (errorRate ** n2)\n",
    "\n",
    "\n",
    "def p_n1n2_if_false(n1, n2):\n",
    "    return (errorRate ** n1) * ((1 - errorRate) ** n2)\n",
    "\n",
    "\n",
    "def p_n1n2(n1, n2,):\n",
    "    return selectivity * p_n1n2_if_true(n1, n2) + (1 - selectivity) * p_n1n2_if_false(n1, n2)\n",
    "\n",
    "\n",
    "#la probabilità effettivamente è uno\n",
    "def pr1n1n2(n1, n2):\n",
    "    assert p_n1n2(n1, n2) != 0, 'Probability is not defined if P(n1, n2) = 0'\n",
    "    return selectivity * p_n1n2_if_true(n1, n2) / p_n1n2(n1, n2)\n",
    "\n",
    "\n",
    "#def pr0n1n2(n1, n2):\n",
    "    #return 1 - pr1n1n2(n1, n2)\n",
    "\n",
    "def pr0n1n2(n1, n2):\n",
    "    assert p_n1n2(n1, n2) != 0, 'Probability is not defined if P(n1, n2) = 0'\n",
    "    return (1-selectivity) * p_n1n2_if_false(n1, n2) / p_n1n2(n1, n2)\n",
    "\n",
    "\n",
    "def p0(n1, n2):\n",
    "    return pr1n1n2(n1, n2) * errorRate + pr0n1n2(n1, n2) * (1 - errorRate)\n",
    "\n",
    "\n",
    "def p1(n1, n2):\n",
    "    return pr1n1n2(n1, n2) * (1 - errorRate) + pr0n1n2(n1, n2) * errorRate"
   ]
  },
  {
   "cell_type": "markdown",
   "metadata": {
    "colab_type": "text",
    "id": "INQYYCxJXhA_"
   },
   "source": [
    "## Implementazione delle varie strategie"
   ]
  },
  {
   "cell_type": "code",
   "execution_count": 2,
   "metadata": {
    "colab": {
     "autoexec": {
      "startup": false,
      "wait_interval": 0
     }
    },
    "colab_type": "code",
    "id": "VnS_HWuIXmGR"
   },
   "outputs": [],
   "source": [
    "def rectangular(n1, n2):\n",
    "    if n1 == M1:\n",
    "        return 1\n",
    "    if n2 == M2:\n",
    "        return 0\n",
    "    return 2"
   ]
  },
  {
   "cell_type": "code",
   "execution_count": 3,
   "metadata": {
    "colab": {
     "autoexec": {
      "startup": false,
      "wait_interval": 0
     }
    },
    "colab_type": "code",
    "id": "6HaEtNCrZwZA"
   },
   "outputs": [],
   "source": [
    "def majority(n1, n2, M):\n",
    "    if n1 == ((M + 1) / 2):\n",
    "        return 1\n",
    "    if n2 == ((M + 1) / 2):\n",
    "        return 0\n",
    "    return 2"
   ]
  },
  {
   "cell_type": "code",
   "execution_count": 4,
   "metadata": {
    "colab": {
     "autoexec": {
      "startup": false,
      "wait_interval": 0
     }
    },
    "colab_type": "code",
    "id": "EpUFIzv0aQc-"
   },
   "outputs": [],
   "source": [
    "def treshold(n1,n2):\n",
    "    if tresh1 < tresh2:\n",
    "        print(\"incorrect threshold configuration... will be reversed\")\n",
    "        treshapp1=tresh2\n",
    "        treshapp2=tresh1\n",
    "    else:\n",
    "        treshapp1=tresh1\n",
    "        treshapp2=tresh2\n",
    "        \n",
    "    if treshapp1<=pr1n1n2(n1,n2):\n",
    "        return 1\n",
    "    else:\n",
    "        if treshapp2<pr0n1n2(n1,n2):\n",
    "        #if treshapp1 < pr0n1n2(n1, n2):\n",
    "            return 0\n",
    "        else:\n",
    "            return majority(n1,n2,M)"
   ]
  },
  {
   "cell_type": "markdown",
   "metadata": {
    "colab_type": "text",
    "id": "WlyWzgkjeIYU"
   },
   "source": [
    "## Calcolo di Y per ogni punto e di Y(0,0) ottimale\n",
    "\n"
   ]
  },
  {
   "cell_type": "code",
   "execution_count": 5,
   "metadata": {
    "colab": {
     "autoexec": {
      "startup": false,
      "wait_interval": 0
     }
    },
    "colab_type": "code",
    "id": "MRmzL-iDeTQr"
   },
   "outputs": [],
   "source": [
    "def Y(n1, n2, Y0, strategy=rectangular):\n",
    "    if n1 == n2 == 0:\n",
    "        return Y0\n",
    "    if strategy(n1, n2) == 0:\n",
    "        return Y0\n",
    "    if strategy(n1, n2) == 1:\n",
    "        return 0\n",
    "    return min(Y0,\n",
    "               1 + p1(n1, n2) * Y(n1 + 1, n2, Y0,  strategy=strategy)\n",
    "               + p0(n1, n2) * Y(n1, n2 + 1, Y0, strategy=strategy))\n",
    "\n",
    "\n",
    "def Y00():\n",
    "    max_error = 1e-2\n",
    "    max_iterations = 50\n",
    "    found = False\n",
    "    i = 0\n",
    "\n",
    "    current_max = 500\n",
    "    current_min = 0\n",
    "\n",
    "    while not found:\n",
    "        if i == max_iterations:\n",
    "            raise Exception(\"Max Iterations\")\n",
    "\n",
    "        candidate_y00 = current_min + (current_max - current_min) / 2.0\n",
    "\n",
    "     \n",
    "        estimated_Y00 = 1 + p1(0, 0) * Y(1, 0,candidate_y00) + p0(0, 0) * Y(0, 1,candidate_y00)\n",
    "\n",
    "        error = abs(estimated_Y00 - candidate_y00)\n",
    "        print(\n",
    "        \"[i] trying Y(0, 0) = %s, estimated Y(0, 0) is %s with error: %s\" % (\n",
    "        str(candidate_y00), str(estimated_Y00), str(error)))\n",
    "\n",
    "        found = error <= max_error\n",
    "\n",
    "        if estimated_Y00 < candidate_y00:\n",
    "            current_max = candidate_y00\n",
    "        else:\n",
    "            current_min = candidate_y00\n",
    "\n",
    "        i += 1\n",
    "    return candidate_y00"
   ]
  },
  {
   "cell_type": "markdown",
   "metadata": {
    "colab_type": "text",
    "id": "217aCLNoezHg"
   },
   "source": [
    "## Main e altre funzioni di supporto"
   ]
  },
  {
   "cell_type": "code",
   "execution_count": 6,
   "metadata": {
    "colab": {
     "autoexec": {
      "startup": false,
      "wait_interval": 0
     }
    },
    "colab_type": "code",
    "id": "F4l5Pt8yeyc5"
   },
   "outputs": [],
   "source": [
    "def inizializzazione(TotalItems, selectivity):\n",
    "    Item=[]\n",
    "    i=0\n",
    "    while(i <= TotalItems):\n",
    "        while(i <= TotalItems * selectivity):\n",
    "            Item.append(1)\n",
    "            i+=1\n",
    "        Item.append(0)\n",
    "        i+=1\n",
    "    random.shuffle(Item)\n",
    "    Strategy={}\n",
    "    c=0\n",
    "    while(c < TotalItems):\n",
    "        Strategy[c]=[(0,0)]\n",
    "        c+=1\n",
    "    #print(Strategy)\n",
    "    return Item, Strategy\n",
    "\n",
    "\n",
    "def min2(Y,n,Strategy):\n",
    "\n",
    "    app=Strategy.copy()\n",
    "    lower=[]\n",
    "    while len(lower) < n:\n",
    "        low=99999\n",
    "        for key in app:\n",
    "            if (Y[app[key][0]]<low):\n",
    "                low=Y[app[key][0]]\n",
    "                chiave=key\n",
    "        lower.append(chiave)\n",
    "        del app[chiave]\n",
    "    return lower\n",
    "\n",
    "\n",
    "\n",
    "\n",
    "\n",
    "# Inizio MAIN\n",
    "\n",
    "def main():\n",
    "\n",
    "    Item, Strategy = inizializzazione(TotalItems, selectivity)\n",
    "    Y0=Y00()\n",
    "    l=[]\n",
    "    domande0=0\n",
    "    domande1=0\n",
    "    y={}\n",
    "    scartati=0\n",
    "\n",
    "    #u=Item.copy()\n",
    "    app=[]\n",
    "\n",
    "    #aggiorno elenco delle y note con i nuovi punti della strategia\n",
    "    for key in Strategy:\n",
    "        if(not Strategy[key] in app):\n",
    "            app.append(Strategy[key])\n",
    "\n",
    "    for ap in app:\n",
    "        if(not ap[0] in y):\n",
    "            y[ap[0]]=Y(ap[0][0], ap[0][1], Y0)\n",
    "\n",
    "    fasi=0\n",
    "    domande=0\n",
    "    while(len(l)<K):\n",
    "        fasi+=1\n",
    "        I2=min2(y,K-len(l),Strategy)\n",
    "        cq={}\n",
    "\n",
    "        for i in I2:\n",
    "            n1=M1-Strategy[i][0][0]\n",
    "            n2=M2-Strategy[i][0][1]\n",
    "            cq[i] =min(n1,n2)\n",
    "            domande+=cq[i]\n",
    "\n",
    "        for i in cq:\n",
    "            c=0\n",
    "            while(c<cq[i]):\n",
    "                #simulo crowdsourcing\n",
    "                if(random.random()>errorRate):\n",
    "                    if(Item[i]==1):\n",
    "                        a=Strategy[i][0][0]+1\n",
    "                        b=Strategy[i][0][1]\n",
    "                        domande1 += 1\n",
    "                    else:\n",
    "                        a = Strategy[i][0][0]\n",
    "                        b = Strategy[i][0][1]+1\n",
    "                        domande0 += 1\n",
    "                    Strategy[i]=[(a,b)]\n",
    "\n",
    "                else:\n",
    "                    if (Item[i] == 1):\n",
    "                        a = Strategy[i][0][0]\n",
    "                        b = Strategy[i][0][1]+1\n",
    "                        domande1 += 1\n",
    "                    else:\n",
    "                        a = Strategy[i][0][0]+1\n",
    "                        b = Strategy[i][0][1]\n",
    "                        domande0 += 1\n",
    "                    Strategy[i] = [(a, b)]\n",
    "                c+=1\n",
    "        for i in cq:\n",
    "            if rectangular(Strategy[i][0][0],Strategy[i][0][1])==1:\n",
    "                l.append(i)\n",
    "                del(Strategy[i])\n",
    "            else:\n",
    "                if rectangular(Strategy[i][0][0],Strategy[i][0][1])==0:\n",
    "                    if (Item[i] == 1):\n",
    "                        scartati+=1\n",
    "                    del(Strategy[i])\n",
    "                else:\n",
    "                    if not Strategy[i][0] in y:\n",
    "                        y[Strategy[i][0]]=Y(Strategy[i][0][0], Strategy[i][0][1], Y0)\n",
    "\n",
    "    print(\"oggetti\")\n",
    "    uni=0\n",
    "    for p in l:\n",
    "        if(Item[p]==1):\n",
    "            uni+=1\n",
    "        print(p,Item[p])\n",
    "\n",
    "    accuracy=(uni/len(l))\n",
    "    avg0=domande0/(TotalItems-len(Strategy)-len(l))\n",
    "    avg1=domande1/len(l)\n",
    "    recall=len(l)/(scartati+len(l))\n",
    "\n",
    "    print(\"\"+\"numero di domande medio per elementi che non soddisfano proprietà: \" +str(avg0) +\"\\n\" )\n",
    "    print(\"\" + \"numero di domande medio per elementi che soddisfano proprietà: \" + str(avg1)+\"\\n\")\n",
    "    print(\"accuracy: \" + \"\\n\\tPrecision: \"+str(accuracy)+\"\\n\\tRecall: \"+ str(recall)+\"\\n\\tScartati: \"+ str(scartati))\n",
    "    print(\"risultato ottenuto in:\\n\"+\"\\tfasi: \"+str(fasi) +\n",
    "          \"\\n\"+\"\\tdomande:\"+str(domande) )"
   ]
  },
  {
   "cell_type": "code",
   "execution_count": 7,
   "metadata": {
    "colab": {
     "autoexec": {
      "startup": false,
      "wait_interval": 0
     }
    },
    "colab_type": "code",
    "id": "TLA9Uy3efOgS"
   },
   "outputs": [],
   "source": [
    "import random\n",
    "\n",
    "M1 = 10\n",
    "tresh1=0.5\n",
    "tresh2=0.3\n",
    "M=20\n",
    "M2 = 10\n",
    "TotalItems=1000000\n",
    "K = 15\n",
    "#Y0 = 30\n",
    "errorRate = 0.35\n",
    "selectivity = 0.2"
   ]
  },
  {
   "cell_type": "code",
   "execution_count": 1,
   "metadata": {},
   "outputs": [],
   "source": [
    "from crowPowered import *"
   ]
  },
  {
   "cell_type": "code",
   "execution_count": 2,
   "metadata": {
    "colab": {
     "autoexec": {
      "startup": false,
      "wait_interval": 0
     },
     "base_uri": "https://localhost:8080/",
     "height": 538
    },
    "colab_type": "code",
    "executionInfo": {
     "elapsed": 44970,
     "status": "ok",
     "timestamp": 1529940552973,
     "user": {
      "displayName": "Patrizio Di Fraia",
      "photoUrl": "https://lh3.googleusercontent.com/a/default-user=s128",
      "userId": "102239266794450120694"
     },
     "user_tz": -120
    },
    "id": "MFkJlWdSfflL",
    "outputId": "5f4349e3-ddd9-4b7a-d8c3-c1d8eba719a5"
   },
   "outputs": [
    {
     "name": "stdout",
     "output_type": "stream",
     "text": [
      "[i] trying Y(0, 0) = 250.0, estimated Y(0, 0) is 200.55838582223396 with error: 49.44161417776604\n",
      "[i] trying Y(0, 0) = 125.0, estimated Y(0, 0) is 106.20281007258205 with error: 18.797189927417946\n",
      "[i] trying Y(0, 0) = 62.5, estimated Y(0, 0) is 57.869635014363126 with error: 4.630364985636874\n",
      "[i] trying Y(0, 0) = 31.25, estimated Y(0, 0) is 31.607854788593627 with error: 0.3578547885936274\n",
      "[i] trying Y(0, 0) = 46.875, estimated Y(0, 0) is 45.20381910676119 with error: 1.6711808932388124\n",
      "[i] trying Y(0, 0) = 39.0625, estimated Y(0, 0) is 38.45394233421315 with error: 0.6085576657868472\n",
      "[i] trying Y(0, 0) = 35.15625, estimated Y(0, 0) is 35.03638692979382 with error: 0.11986307020617915\n",
      "[i] trying Y(0, 0) = 33.203125, estimated Y(0, 0) is 33.323519570220746 with error: 0.12039457022074629\n",
      "[i] trying Y(0, 0) = 34.1796875, estimated Y(0, 0) is 34.181340624930094 with error: 0.0016531249300939521\n",
      "oggetti\n",
      "2 1\n",
      "12 1\n",
      "10 0\n",
      "5 0\n",
      "25 1\n",
      "24 0\n",
      "27 0\n",
      "37 1\n",
      "42 1\n",
      "40 1\n",
      "63 1\n",
      "68 1\n",
      "80 1\n",
      "83 1\n",
      "85 1\n",
      "numero di domande medio per elementi che non soddisfano proprietà: 14.830985915492958\n",
      "\n",
      "numero di domande medio per elementi che soddisfano proprietà: 17.6\n",
      "\n",
      "accuracy: \n",
      "\tPrecision: 0.7333333333333333\n",
      "\tRecall: 0.75\n",
      "\tScartati: 5\n",
      "risultato ottenuto in:\n",
      "\tfasi: 54\n",
      "\tdomande:1317\n"
     ]
    }
   ],
   "source": [
    "main()"
   ]
  },
  {
   "cell_type": "markdown",
   "metadata": {},
   "source": [
    "# Script per determinare i migliori parametri da utilizzare (eseguito su Azure)"
   ]
  },
  {
   "cell_type": "markdown",
   "metadata": {},
   "source": [
    "import random\n",
    "import os\n",
    "HEADER = \"Item,K,M1,M2,selectivity,errorRate,accuracy_avg,accuracy_lower,accuracy_higher,phases_avg,phases_lower,phases_higher\" \\\n",
    "         \",questions_avg,questions_lower,questions_higher\"\n",
    "OUTPUT_FILE = \"analisi.csv\"\n",
    "\n",
    "if (os.path.exists(OUTPUT_FILE)):\n",
    "    os.remove(OUTPUT_FILE)\n",
    "    print(\"Removed: \" + OUTPUT_FILE)\n",
    "dataset = open(OUTPUT_FILE, \"w\")\n",
    "print(\"Created empty file: \" + OUTPUT_FILE)\n",
    "dataset.write(HEADER + \"\\n\")\n",
    "\n",
    "\n",
    "\n",
    "tresh1=0.5\n",
    "tresh2=0.3\n",
    "nfasi=100\n",
    "M=20\n",
    "\n",
    "ERROR=[0.1,0.2,0.25,0.3,0.35,0.4,0.49]\n",
    "SEL=[0.01,0.05,0.1,0.2,0.25,0.3]\n",
    "KKK=[10,15,20,50]\n",
    "M12=[5,8,10,15,20]\n",
    "TOTAL=[10000,100000,1000000,10000000]\n",
    "\n",
    "for errorRate in ERROR:\n",
    "    for selectivity in SEL:\n",
    "        y = {}\n",
    "        for M1 in M12:\n",
    "            M2=M1\n",
    "            for K in KKK:\n",
    "                for TotalItems in TOTAL:\n",
    "\n",
    "\n",
    "\n",
    "                    def main():\n",
    "                        .\n",
    "                        .\n",
    "                        .\n",
    "                        return accuracy,fasi,domande\n",
    "                        \n",
    "                    accuracy_low=2\n",
    "                    accuracy_high=-1\n",
    "                    fasi_low=99999999\n",
    "                    fasi_high=0\n",
    "                    domande_low=999999999999\n",
    "                    domande_high=0\n",
    "                    count_master = 0\n",
    "                    accuracy_sum=0\n",
    "                    fasi_sum=0\n",
    "                    domande_sum=0\n",
    "                    while (count_master < nfasi):\n",
    "                        accuracy,fasi,domande=main()  \n",
    "                        accuracy_sum+=accuracy\n",
    "                        fasi_sum+=fasi\n",
    "                        domande_sum+=domande\n",
    "                        if accuracy>accuracy_high:\n",
    "                            accuracy_high=accuracy\n",
    "                        if accuracy<accuracy_low:\n",
    "                            accuracy_low=accuracy\n",
    "                        if fasi>fasi_high:\n",
    "                            fasi_high=fasi\n",
    "                        if fasi<fasi_low:\n",
    "                            fasi_low=fasi\n",
    "                        if domande>domande_high:\n",
    "                            domande_high=domande\n",
    "                        if domande<domande_low:\n",
    "                            domande_low=domande\n",
    "                        count_master+=1\n",
    "                        print(count_master)\n",
    "                    accuracy_avg=accuracy_sum/nfasi\n",
    "                    domande_avg=domande_sum/nfasi\n",
    "                    fasi_avg=fasi_sum/nfasi\n",
    "                    row=\"\"+str(TotalItems)+\",\"+str(K)+\",\"+str(M1)+\",\"+str(M2)+\",\"+str(selectivity)+\",\"+str(errorRate)+\",\"+str(accuracy_avg)+\",\"+str(accuracy_low)+\",\"+str(accuracy_high)+\",\"+str(fasi_avg)+\",\"+str(fasi_low)+\",\"+str(fasi_high)+\",\"+str(domande_avg)+\",\"+str(domande_low)+\",\"+str(domande_high)+\",\"\n",
    "                    print(row)\n",
    "                    dataset.write(row + \"\\n\")\n",
    "\n",
    "dataset.close()\n",
    "print(\"File closed: \" + OUTPUT_FILE)\n"
   ]
  },
  {
   "cell_type": "markdown",
   "metadata": {},
   "source": [
    "![Esempio_Output](immagine_ris.png)"
   ]
  },
  {
   "cell_type": "markdown",
   "metadata": {},
   "source": [
    "# Grafici Starplot per il confronto dei cambiamenti delle variabili"
   ]
  },
  {
   "cell_type": "markdown",
   "metadata": {},
   "source": [
    "La scelta delle Starplot è per mettere a confronto in modo intituitivo, come variano gli output al variare del valore dei vari parametri in input. L'obietttivo non è tanto quello di avere metriche assolute, ma di capire i parametri di output che maggiormente risentono delle variazioni dei vari parametri di input."
   ]
  },
  {
   "cell_type": "markdown",
   "metadata": {},
   "source": [
    "## Error Rate"
   ]
  },
  {
   "cell_type": "markdown",
   "metadata": {},
   "source": [
    "![Errore](immagini/Error2.png)"
   ]
  },
  {
   "cell_type": "markdown",
   "metadata": {},
   "source": [
    "Al variare dell'error rate la precision e la recall scendono in particolar modo la prima. Questo perché è più facile che un oggetto 1 venga dichirato 0, il numero delle fasi e delle domande quindi diminuisce perchè seppur sbagliata si arriva prima ad una conclusione, e questo implica anche che la recall perda molto meno rispetto alla precision, proprio perchè con meno oggetti è più difficile che venga scartato un numero consistente di 1."
   ]
  },
  {
   "cell_type": "markdown",
   "metadata": {},
   "source": [
    "# Selettività"
   ]
  },
  {
   "cell_type": "markdown",
   "metadata": {},
   "source": [
    "![Errore](immagini/Sele.png)"
   ]
  },
  {
   "cell_type": "markdown",
   "metadata": {},
   "source": [
    "Il crescere della selettività porta a dei risultati ovviamente migliori, ma i scenari più complessi e di maggiore interesse sono quelli con una selettività piuttosto bassa. Recall e precision non ne risentono in modo netto, questo perché se di elementi che soddisfano la proprietà ce ne sono 1 o 100 per l'algoritmo non fa molta differenza da questo punto di vista (ne fa molta invece in termini di fasi  e domande), bensì è l'error Rate che ne influenza di molto il valore come visto nel plot precedente. Y00 ha un aumento esponenziale quando la selettività diminuisce al punto che negli scenari ago in un pagliaio che vedremo in seguito è impostata di default a un valore alto ottenuto durante vari esperimenti perchè per calcolarlo ci impiega moltissimo e non è molto influente ai fini del risultato quando assume valori così alti.\n"
   ]
  },
  {
   "cell_type": "markdown",
   "metadata": {},
   "source": [
    "# Limite M della Strategia"
   ]
  },
  {
   "cell_type": "markdown",
   "metadata": {},
   "source": [
    "![Errore](immagini/M.png)"
   ]
  },
  {
   "cell_type": "markdown",
   "metadata": {},
   "source": [
    "M che indica il limite delle risposte yes o no per considerare un item come 1 o 0, è un parametro di cui sul paper non si parla molto e di cui è stata fatta un'attenta analisi.\n",
    "Con valori molto piccoli recall e precision rischiano di crollare anche se l'error rate non è troppo alto (0.25 già è sotto lo 0.7 di precision). Da un valore pari a 10 in poi tende a stabilizzarsi sotto questo punto di vista (motivo principale per cui in tutti i test e le implementazioni successive ho assunto M1=M2=10).\n",
    "Aumentando il numero di risposte di qualsiasi genere necessarie è facile da capire come il numero di fasi e domande aumenta in modo rilevante (le domande di più perchè intrinsecamente le fasi tengono conto di M dal momento che il numero di domande ad ogni fase è in funzione di quanto manca a soddisfare la strategia).\n",
    "Il parametro che maggiormente cambia al crescere di M è Y00, e non solo in termini di valore ma soprattutto per il tempo di esecuzione (con 30 se non gestito correttamente nelle prime implementazioni c'era un problema di profondità della ricorsione).\n",
    "\n"
   ]
  },
  {
   "cell_type": "markdown",
   "metadata": {},
   "source": [
    "# K elementi da trovare"
   ]
  },
  {
   "cell_type": "markdown",
   "metadata": {},
   "source": [
    "![Errore](immagini/K.png)"
   ]
  },
  {
   "cell_type": "markdown",
   "metadata": {},
   "source": [
    "K è uno dei parametri meno importanti, influsisce sul numero di domande e di fasi perchè ovviamente è necessario trovare più oggetti ma non influisce in alcun modo sugli altri aspetti"
   ]
  },
  {
   "cell_type": "markdown",
   "metadata": {},
   "source": [
    "# Total Items"
   ]
  },
  {
   "cell_type": "markdown",
   "metadata": {},
   "source": [
    "![Errore](immagini/Item.png)"
   ]
  },
  {
   "cell_type": "markdown",
   "metadata": {},
   "source": [
    "Vale lo stesso discorso fatto per K"
   ]
  },
  {
   "cell_type": "markdown",
   "metadata": {
    "colab_type": "text",
    "id": "oZlBc8EllQXe"
   },
   "source": [
    "# Seconda Parte: Scenari alternativi"
   ]
  },
  {
   "cell_type": "markdown",
   "metadata": {},
   "source": [
    "## Selettività bassa e spammer (2 probabilità)   (Scenario Di Riferimento)"
   ]
  },
  {
   "cell_type": "markdown",
   "metadata": {},
   "source": [
    "Questo scenario da un punto di vista implemnetativo non si discosta molto da quello classico del paper. L'error rate non è più unico, ma ce ne sono due uno per gli elementi 0 e una per gli elementi 1.\n",
    "Questo perchè si è ipotizzato che la selettività è bassissima, e che in casi come questo l'utente tende a rispondere sempre no perchè essendo quasi la totalità delle risposte corrette \"no\", non sbaglia quasi mai.\n",
    "Quindi l'error rate per le risposte no è bassissimo( convenzionalmente messo uguale alla selettività dato che i due aspetti sono correlati) e un'error rate piuttosto alto per le risposte yes.\n",
    "Dai risultati di vari test ed esecuzioni si nota come il numero delle domande e delle fasi aumenta di molto rispetto al caso in base. in particolar modo queste domande non sono ben distribuite poichè circa il 30% sono necessarie per assegnare il valore 0 e circa il 70% per quelle si.\n",
    "Inoltre un aspetto che abbiamo notato è che la precision è quasi sempre alta tendente ad uno.\n",
    "La spiegazione è che avendo una probabilità di errore per le risposte no praticamente nulla, le probabilità che un oggetto no con una strategia con M=10 venga dichirato si è praticamente nulla, viceversa la recall non è sempre massima perchè alcuni oggetti si vengono scartati.\n"
   ]
  },
  {
   "cell_type": "code",
   "execution_count": 11,
   "metadata": {
    "colab": {
     "autoexec": {
      "startup": false,
      "wait_interval": 0
     }
    },
    "colab_type": "code",
    "id": "DZ7gQ4DilNvv"
   },
   "outputs": [],
   "source": [
    "from Scenario_ago_pagliaio1 import *\n"
   ]
  },
  {
   "cell_type": "code",
   "execution_count": 5,
   "metadata": {},
   "outputs": [
    {
     "name": "stdout",
     "output_type": "stream",
     "text": [
      "numero di domande medio per elementi che non soddisfano proprietà: 10.010084866630926\n",
      "\n",
      "numero di domande medio per elementi che soddisfano proprietà: 17.83\n",
      "\n",
      "accuracy: \n",
      "\tPrecision: 1.0\n",
      "\tRecall: 1.0\n",
      "\tScartati in un primo momento: 15\n",
      "risultato ottenuto in:\n",
      "\tfasi: 4242\n",
      "\tdomande:991390\n"
     ]
    }
   ],
   "source": [
    "main()"
   ]
  },
  {
   "cell_type": "markdown",
   "metadata": {},
   "source": [
    "# Risultati della configurazione (300 esecuzioni)\n",
    "\n",
    "## Con ErrorRate 0.4\n",
    "\n",
    "Precision\t1\n",
    "\n",
    "Recall\t0,825\n",
    "\n",
    "Fasi\t3% (circa 20 volte di più dei scenari standard)\n",
    "\n",
    "Domande\t[1:15] * Total Items con una media di 9.436\n",
    "\n",
    "## Con ErrorRate 0.35\n",
    "\n",
    "Precision\t1\n",
    "\n",
    "Recall\t0,94\n",
    "\n",
    "Fasi\t2.8% (circa 20 volte di più dei scenari standard)\n",
    "\n",
    "Domande\t[1:15] * Total Items con una media di 8.824\n",
    "\n"
   ]
  },
  {
   "cell_type": "markdown",
   "metadata": {},
   "source": [
    "![Scenario2](immagini/Sc2.png)"
   ]
  },
  {
   "cell_type": "markdown",
   "metadata": {},
   "source": [
    "## Variante con ricerca di tutti gli elementi"
   ]
  },
  {
   "cell_type": "markdown",
   "metadata": {},
   "source": [
    "Per cercare di simulare il caso che maggiormente si avvicina a quello del caso reale nel progetto del \"Codice Ratio\", abbiamo introdotto la variante di cercare non k elementi che soddisfano la proprietà, ma tutti quelli che la soddisfano.\n",
    "Il risultato prevede un numero elevatissimo di domande, e non garantisce che vengano prese correttamente tutte quante quando l'error rate è molto elevato"
   ]
  },
  {
   "cell_type": "code",
   "execution_count": 1,
   "metadata": {},
   "outputs": [],
   "source": [
    "from Scenario_ago_pagliaio2 import *"
   ]
  },
  {
   "cell_type": "code",
   "execution_count": 2,
   "metadata": {},
   "outputs": [
    {
     "name": "stdout",
     "output_type": "stream",
     "text": [
      "numero di domande medio per elementi che non soddisfano proprietà: 10.007755894479805\n",
      "\n",
      "numero di domande medio per elementi che soddisfano proprietà: 20.75\n",
      "\n",
      "accuracy: \n",
      "\tPrecision: 1.0\n",
      "\tRecall: 0.7524752475247525\n",
      "\tScartati: 25\n",
      "risultato ottenuto in:\n",
      "\tfasi: 1950\n",
      "\tdomande:1001592\n"
     ]
    }
   ],
   "source": [
    "main()\n"
   ]
  },
  {
   "cell_type": "markdown",
   "metadata": {},
   "source": [
    "### Variante della precedente in cui non è consentito di scartare un oggetto che soddisfa la proprietà, variante forzata che non rispecchia uno scenario reale"
   ]
  },
  {
   "cell_type": "code",
   "execution_count": 3,
   "metadata": {},
   "outputs": [],
   "source": [
    "from Scenario_ago_pagliaio2_2 import *"
   ]
  },
  {
   "cell_type": "code",
   "execution_count": 4,
   "metadata": {},
   "outputs": [
    {
     "name": "stdout",
     "output_type": "stream",
     "text": [
      "numero di domande medio per elementi che non soddisfano proprietà: 10.00998900200789\n",
      "\n",
      "numero di domande medio per elementi che soddisfano proprietà: 19.36\n",
      "\n",
      "accuracy: \n",
      "\tPrecision: 1.0\n",
      "\tRecall: 1.0\n",
      "\tScartati in un primo momento: 24\n",
      "risultato ottenuto in:\n",
      "\tfasi: 6523\n",
      "\tdomande:994016\n"
     ]
    }
   ],
   "source": [
    "main()"
   ]
  },
  {
   "cell_type": "markdown",
   "metadata": {},
   "source": [
    "# Risultati della configurazione (300 esecuzioni)\n",
    "\n",
    "## Configurazione 1\n",
    "\n",
    "Precision\t1\n",
    "\n",
    "Recall\t0,72\n",
    "\n",
    "Fasi\t4.5% (circa 20 volte di più dei scenari standard)\n",
    "\n",
    "Domande\t[10:15] * Total Items\n",
    "\n",
    "## Configurazione 2\n",
    "\n",
    "Precision\t1\n",
    "\n",
    "Recall\t1\n",
    "\n",
    "Fasi\t8.4% (circa 50 volte di più dei scenari standard)\n",
    "\n",
    "Domande\t[10:15] * Total Items\n",
    "\n"
   ]
  },
  {
   "cell_type": "markdown",
   "metadata": {},
   "source": [
    "# Variante task con vari livelli di difficoltà e attenzione calante all'aumentare delle domande per utente"
   ]
  },
  {
   "cell_type": "markdown",
   "metadata": {},
   "source": [
    "\n",
    "ermax=0.45\n",
    "taskdiff=0.1\n",
    "taskmed=0.2\n",
    "tasknormal=0.7\n",
    "\n",
    "\n",
    "def inizializzazione(TotalItems, selectivity):\n",
    "    \n",
    "    .\n",
    "    \n",
    "    .\n",
    "    \n",
    "    cont1=0\n",
    "    cont2=0\n",
    "    cont3=0\n",
    "    while i < TotalItems:\n",
    "        a=random.random()\n",
    "        if (a>=(1-tasknormal)):\n",
    "            #se compreso tra 0.3 e 1 nel caso 0.7\n",
    "            Item2[i]=1\n",
    "            cont1+=1\n",
    "        else:\n",
    "            if (a>taskdiff):\n",
    "                #se compreso tra 0.1 e 0.3\n",
    "                Item2[i]=2\n",
    "                cont2 += 1\n",
    "            else:\n",
    "                #se minore uguale alla probabilità che sia difficile\n",
    "                Item2[i]=3\n",
    "                cont3 += 1\n",
    "        i+=1\n",
    "        \n",
    "def main():\n",
    "\n",
    "    .\n",
    "    .  \n",
    "    .\n",
    "    errorRate = 0.30\n",
    "    fasciamed=0.05\n",
    "    fasciadiff=0.1\n",
    "    .\n",
    "    .\n",
    "    .\n",
    "        if errorRate1<=ermax:\n",
    "            if fasi%200==0:\n",
    "                #print(\"yes\")\n",
    "                n=fasi/200\n",
    "                errorRate1=errorRate+n*0.005\n",
    "                #print(errorRate1)\n",
    "\n",
    "                app=errorRate1\n",
    "                app2=errorRate0\n",
    "                if(Item[i]==1):\n",
    "                    if(Item2[Item[i]]==2):\n",
    "                        errorRate1+=fasciamed\n",
    "                    if(Item2[Item[i]]==3):\n",
    "                        errorRate1+=fasciadiff\n",
    "\n",
    "                   "
   ]
  },
  {
   "cell_type": "code",
   "execution_count": 7,
   "metadata": {},
   "outputs": [],
   "source": [
    "from Scenario_ago_pagliaio3 import *"
   ]
  },
  {
   "cell_type": "code",
   "execution_count": 8,
   "metadata": {},
   "outputs": [
    {
     "name": "stdout",
     "output_type": "stream",
     "text": [
      "task facili: 69841\n",
      "task medi: 20046\n",
      "task difficili: 10113\n",
      "numero di domande medio per elementi che non soddisfano proprietà: 10.007726002828269\n",
      "\n",
      "numero di domande medio per elementi che soddisfano proprietà: 18.8\n",
      "\n",
      "accuracy: \n",
      "\tPrecision: 1.0\n",
      "\tRecall: 1.0\n",
      "\tScartati in un primo momento: 5\n",
      "risultato ottenuto in:\n",
      "\tfasi: 5780\n",
      "\tdomande:290530\n"
     ]
    }
   ],
   "source": [
    "main()"
   ]
  },
  {
   "cell_type": "markdown",
   "metadata": {},
   "source": [
    "Confrontando i risultati potrebbe venir fuori un dubbio, come è possibile che con meno domande medie di questo scenario ci siano più fasi??\n",
    "La risposta risiede nella natura dell'algoritmo, per ogni fase l'operazione di ricerca del minimo numero di domande necessarie produca un output minore perchè c'è meno incertezza, e quindi avremo molte fasi ognuna con un numero minore di domande."
   ]
  },
  {
   "cell_type": "markdown",
   "metadata": {},
   "source": [
    "# Risultati della configurazione (300 esecuzioni)\n",
    "\n",
    "Precision\t1\n",
    "\n",
    "Recall\t0,95\n",
    "\n",
    "Fasi\t6.5% (circa 35 volte di più dei scenari standard)\n",
    "\n",
    "Domande\t[1.23:1.62] * Total Items mediamente è intorno lo 0.3\n",
    "\n",
    "\n"
   ]
  },
  {
   "cell_type": "markdown",
   "metadata": {},
   "source": [
    "# Variante in cui vengono inserite domande per evitare che apperentemente le risposte corrette siano tutti uguali"
   ]
  },
  {
   "cell_type": "markdown",
   "metadata": {},
   "source": [
    "In questa variante vengono inserite domande in cui la risposta è uno per tenere più basso l'error rate di risposte yes.\n",
    "I problemi principali di questa implementazione sono legati all'assenza di dati che ci consentono di settare opportunamente l'intervallo in cui inserire tali domande.\n",
    "Dagli esperimenti fatti notiamo come all'aumentare della frequenza con cui porre tali domande,che corrisponde alla possibilità di tenere l'error rate più basso, il numero di domande e di fasi aumenta di molto. Si torna quindi al solito problema di scegliere il giusto tradeoff tra costo di domande e accuratezza delle risposte ottenute.\n",
    "Nei vari test abbiamo provato a settare un approccio randomico e uno regolare, supponendo che se fosse regolare l'utente potrebbe accorgersene soprattutto se l'intervallo è ampio.\n",
    "Analizzando questo scenario abbiamo inoltre ipotizzato che dal momento che le risposte non sono solo no, l'error rate delle risposte no seppur di poco va aumentato se la frequenza è molto alta. Con questa condizione ci si riavvicina allo scenario implementato dal paper, in cui le fasi e le domande reali sono mediamente costanti ma non sempre l'accuratezza in termini di precision risulta essere elevata soprattutto all'aumentare dell'error rate.\n"
   ]
  },
  {
   "cell_type": "code",
   "execution_count": 21,
   "metadata": {},
   "outputs": [],
   "source": [
    "from Scenario_ago_pagliaio4 import *"
   ]
  },
  {
   "cell_type": "code",
   "execution_count": 22,
   "metadata": {},
   "outputs": [
    {
     "name": "stdout",
     "output_type": "stream",
     "text": [
      "task facili: 70172\n",
      "task medi: 19781\n",
      "task difficili: 10047\n",
      "numero di domande medio per elementi che non soddisfano proprietà: 11.126737338044759\n",
      "\n",
      "numero di domande medio per elementi che soddisfano proprietà: 16.2\n",
      "\n",
      "accuracy: 1.0\n",
      "risultato ottenuto in:\n",
      "\tfasi: 5099\n",
      "\t\tdi cui fittizzie: 4845\n",
      "\tdomande:461495\n",
      "\t\tdi cui fittizzie: 225006\n"
     ]
    }
   ],
   "source": [
    "main()"
   ]
  },
  {
   "cell_type": "markdown",
   "metadata": {},
   "source": [
    "# Variante in cui si gestiscono diversi tipi di utenti"
   ]
  },
  {
   "cell_type": "markdown",
   "metadata": {},
   "source": [
    "In questa variante vengono individuati 3 utenti diversi, quelli normali i spammer e gli hammer.\n",
    "Ognuno di loro viene contradistinto da un error rate diverso rispetto a quello degli altri.\n",
    "Lo scenario di riferimento resta quello dell'ago in un pagliaio, si tiene conto dell'attenzione calante e non delle domande fittizzie per rialzarla.\n",
    "In modo parametrico è possibile scegliere i vari error rate e quanti utenti ci sono per ogni tipologia, lo scenario base ipotizzato prevede un numero più elevato di utenti medi e meno utenti spammer e hammer.\n",
    "Partendo da questa probabilità di errore che immaginiamo sia fornita dal servizio di crowdsourcing sulla base dello storio degli utenti, dinamicamente le probabilità di ogni singolo utente vengono aggiornate sulla base delle risposte corrette e di quelle errate. Data la selettività molto bassa abbiamo supposto che le penalità o i bonus siano relativi solo alle risposte relative agli item che soddisfano la proprietà (altrimenti gli spammer diventerebbero velocemente hammer).\n",
    "Dato che chiunque può sbagliare per un qualsiasi motivo, abbiamo deciso che le risposte non sono pesate in base alla tipologia di utente, ma che ad ogni fase quando devono essere selezionati gli utenti a cui fare le domande vengono presi quelli con error rate più basso.\n"
   ]
  },
  {
   "cell_type": "markdown",
   "metadata": {},
   "source": [
    "### Questo frammento di codice serve per determinare in ogni fase a quali utenti fare le domande"
   ]
  },
  {
   "cell_type": "code",
   "execution_count": 23,
   "metadata": {},
   "outputs": [],
   "source": [
    "def min3(Utenti,n):\n",
    "    app=Utenti.copy()\n",
    "    while len(app) > n:\n",
    "        max=0\n",
    "        for key in app:\n",
    "            if (app[key]>max):\n",
    "                max=app[key]\n",
    "                chiave=key\n",
    "        del app[chiave]\n",
    "    #print (app)\n",
    "    return app"
   ]
  },
  {
   "cell_type": "markdown",
   "metadata": {},
   "source": [
    "### Questo frammento di codice è relativo alla creazione degli utenti"
   ]
  },
  {
   "cell_type": "code",
   "execution_count": 24,
   "metadata": {},
   "outputs": [],
   "source": [
    "UtSpammer=0.25\n",
    "UtMedi=0.5\n",
    "UtHammer=0.25\n",
    "Pspammer=0.4\n",
    "PNormal=0.25\n",
    "Phammer=0.1\n",
    "\n",
    "def utenti(n):\n",
    "    Spammer=int(UtSpammer*n)\n",
    "    Normal=int(UtMedi*n)\n",
    "    Hammer=int(UtHammer*n)\n",
    "    Somma=Hammer+Spammer+Normal\n",
    "    if Somma<n:\n",
    "        a=n-Somma\n",
    "        Normal+=a\n",
    "    ut={}\n",
    "    c=0\n",
    "    i=0\n",
    "    while(i<Spammer):\n",
    "        ut[c]=Pspammer\n",
    "        c+=1\n",
    "        i+=1\n",
    "    i=0\n",
    "    while(i<Normal):\n",
    "        ut[c]=PNormal\n",
    "        c+=1\n",
    "        i+=1\n",
    "    i=0\n",
    "    while(i<Hammer):\n",
    "        ut[c]=Phammer\n",
    "        c+=1\n",
    "        i+=1\n",
    "    return ut\n"
   ]
  },
  {
   "cell_type": "code",
   "execution_count": 9,
   "metadata": {},
   "outputs": [],
   "source": [
    "from Scenario_ago_pagliaio5 import *"
   ]
  },
  {
   "cell_type": "code",
   "execution_count": 10,
   "metadata": {
    "scrolled": true
   },
   "outputs": [
    {
     "name": "stdout",
     "output_type": "stream",
     "text": [
      "task facili: 69880\n",
      "task medi: 20090\n",
      "task difficili: 10030\n",
      "numero di domande medio per elementi che non soddisfano proprietà: 10.009192627327174\n",
      "\n",
      "numero di domande medio per elementi che soddisfano proprietà: 14.1\n",
      "\n",
      "accuracy: \n",
      "\tPrecision: 1.0\n",
      "\tRecall: 0.9523809523809523\n",
      "\tScartati: 1\n",
      "risultato ottenuto in:\n",
      "\tfasi: 3338\n",
      "\tdomande:215870\n"
     ]
    }
   ],
   "source": [
    "main()"
   ]
  },
  {
   "cell_type": "markdown",
   "metadata": {},
   "source": [
    "# Risultati della configurazione (300 esecuzioni)\n",
    "\n",
    "Precision\t1\n",
    "\n",
    "Recall\t0,95\n",
    "\n",
    "Fasi\t3.2% (circa 20 volte di più dei scenari standard)\n",
    "\n",
    "Domande\t[1.19:1.4] * Total Items mediamente è intorno lo 0.2\n",
    "\n",
    "\n"
   ]
  },
  {
   "cell_type": "markdown",
   "metadata": {},
   "source": [
    "Questo è lo scenario con i risultati in termini di fasi e domande migliore rispetto agli altri, mantenendo comunque un elevata precision e recall. In molti casi è uno scenario che si avvicina molto anche al caso reale, è però funzione del numero di utenti per ogni categoria."
   ]
  }
 ],
 "metadata": {
  "colab": {
   "default_view": {},
   "name": "Agiw.ipynb",
   "provenance": [],
   "version": "0.3.2",
   "views": {}
  },
  "kernelspec": {
   "display_name": "Python 3",
   "language": "python",
   "name": "python3"
  },
  "language_info": {
   "codemirror_mode": {
    "name": "ipython",
    "version": 3
   },
   "file_extension": ".py",
   "mimetype": "text/x-python",
   "name": "python",
   "nbconvert_exporter": "python",
   "pygments_lexer": "ipython3",
   "version": "3.5.2"
  }
 },
 "nbformat": 4,
 "nbformat_minor": 1
}
