{
 "cells": [
  {
   "cell_type": "markdown",
   "metadata": {
    "colab_type": "text",
    "id": "lfSGmE3GDSgi"
   },
   "source": [
    "#Crowd-Powered Find Algorithms\n",
    "\n",
    "\n",
    "Il campo del crowdsourcing, combina le capacità computazionali delle macchine e dell'uomo per risolvere problemi che potrebbero essere difficili ai due se presi singolarmente.\n",
    "Uno scenario tipico è quello dell'uomo che individua degli elementi all'interno di immagini o video, operazione che non risulta seplice da eseguire per un calcolatore elettronico.\n",
    "\n",
    "L'algoritmo di CrowFind è uno strumento che si abbina al crowdsourcing per determinare il giusto numero di domande da fare e come farle.\n",
    "\n",
    "ALGORITMO BASE DI CROWDFIND : \n",
    "dato un numero di oggetti una proprietà booleana P, un numero K, attraverso domande fatte agli umani si vogliono trovare K oggetti che soddisfano P. \n",
    "\n",
    "E' importante precisare che non esiste un'unica soluzione ne una soluzione che sia la migliore,  ci sono invece varie implementazioni che tendono conto del tradeoff tra costo e tempo.\n",
    "\n",
    "Scenario sequenziale: viene fatta una domanda per volta finchè non si arriva a K oggetti che soddisfano P. Costo minimo ma tempo elevato.\n",
    "\n",
    "Scenario parallelo: vengono mostrate tutte le immagini in parallelo in unica fase. Tempo minimo ma costo massimo.\n",
    "\n",
    "Esistono inoltre scenari ibridi in cui si possono settare delle soglie entro cui potersi muovere o in termine di fasi o di domande.\n",
    "\n",
    "Tutto ciò tiene conto di due possbili scenari: quando l'umano non sbaglia mai(ideale ma irreale), e quando l'uomo può sbagliare nel rispondere.\n",
    "\n",
    "Per stabilire in questo secondo caso se un oggetto gode o meno della proprietà P,  vengono fatte più domande sullo stesso oggetto, e vengono utilizzate  delle strategie per determinare il risultato (nel paper Rectangular, Majority e Treshold). \n",
    "Ogni punto della strategia viene individuato dalla coppia (n1,n2)  dove n1= numero di risposte Yes per l'oggetto  e n2= numero di risposte No.\n",
    "Per ognuno di questi punti viene calcolato il costo aspettato Y(n1,n2), che serve per scegliere se per trovare il prossimo oggetto che soddisfa la proprietà conviene continuare a fare domande su quell'oggetto oppure scartarlo e passare ad esaminarne un altro.\n",
    "La Y tiene conto della selettività a priori e dell'errore rate che si considera essere uguale per ogni utente.\n",
    "\n",
    "\n",
    "\n",
    "\n"
   ]
  },
  {
   "cell_type": "markdown",
   "metadata": {
    "colab_type": "text",
    "id": "6uvpZIASRabm"
   },
   "source": [
    "# Algoritmo UncOptCost"
   ]
  },
  {
   "cell_type": "markdown",
   "metadata": {
    "colab_type": "text",
    "id": "VkryZOhfQ-W6"
   },
   "source": [
    "\n",
    "\n",
    "```\n",
    "Data: I, K1 , Pr(⋅), strategy S\n",
    "Result: Set L of K 1 1 items\n",
    "L ← ∅;\n",
    "U = I;\n",
    "Compute Y for each point in the strategy R;\n",
    "while ∣L∣ < K 1 do\n",
    "    Pick I ′ ⊆ U , ∣I ′ ∣ = (K 1 − ∣L∣) items with the lowest Y (R(I));\n",
    "    CQ ← {};\n",
    "    for each I ∈ I ′ do\n",
    "        Let n+ be the fewest YES responses required to make Y (R(I)) = 0;\n",
    "        Let n− be the fewest NO responses required to make\n",
    "        Y (R(I)) = Y (0, 0);\n",
    "        Add min{n + , n − } questions on I to CQ;\n",
    "    Ask CQ in parallel to the crowdsourcing service;\n",
    "    Update R(I) for each I ∈ CQ based on answers;\n",
    "    for each I ∈ CQ do\n",
    "        if S(R(I)) = 1 then\n",
    "            Remove I from U and add it to L;\n",
    "        if S(R(I)) = 0 then\n",
    "            Remove I from U ;\n",
    "```\n",
    "\n"
   ]
  },
  {
   "cell_type": "markdown",
   "metadata": {
    "colab_type": "text",
    "id": "H4FoHK7dazwA"
   },
   "source": [
    "##Calcolo delle probabilità"
   ]
  },
  {
   "cell_type": "code",
   "execution_count": 0,
   "metadata": {
    "colab": {
     "autoexec": {
      "startup": false,
      "wait_interval": 0
     }
    },
    "colab_type": "code",
    "id": "6jsNvuEXa4un"
   },
   "outputs": [],
   "source": [
    "def p_n1n2_if_true(n1, n2):\n",
    "    return ((1 - errorRate) ** n1) * (errorRate ** n2)\n",
    "\n",
    "\n",
    "def p_n1n2_if_false(n1, n2):\n",
    "    return (errorRate ** n1) * ((1 - errorRate) ** n2)\n",
    "\n",
    "\n",
    "def p_n1n2(n1, n2,):\n",
    "    return selectivity * p_n1n2_if_true(n1, n2) + (1 - selectivity) * p_n1n2_if_false(n1, n2)\n",
    "\n",
    "\n",
    "#la probabilità effettivamente è uno\n",
    "def pr1n1n2(n1, n2):\n",
    "    assert p_n1n2(n1, n2) != 0, 'Probability is not defined if P(n1, n2) = 0'\n",
    "    return selectivity * p_n1n2_if_true(n1, n2) / p_n1n2(n1, n2)\n",
    "\n",
    "\n",
    "#def pr0n1n2(n1, n2):\n",
    "    #return 1 - pr1n1n2(n1, n2)\n",
    "\n",
    "def pr0n1n2(n1, n2):\n",
    "    assert p_n1n2(n1, n2) != 0, 'Probability is not defined if P(n1, n2) = 0'\n",
    "    return (1-selectivity) * p_n1n2_if_false(n1, n2) / p_n1n2(n1, n2)\n",
    "\n",
    "\n",
    "def p0(n1, n2):\n",
    "    return pr1n1n2(n1, n2) * errorRate + pr0n1n2(n1, n2) * (1 - errorRate)\n",
    "\n",
    "\n",
    "def p1(n1, n2):\n",
    "    return pr1n1n2(n1, n2) * (1 - errorRate) + pr0n1n2(n1, n2) * errorRate"
   ]
  },
  {
   "cell_type": "markdown",
   "metadata": {
    "colab_type": "text",
    "id": "INQYYCxJXhA_"
   },
   "source": [
    "#Implementazione delle varie strategie"
   ]
  },
  {
   "cell_type": "code",
   "execution_count": 0,
   "metadata": {
    "colab": {
     "autoexec": {
      "startup": false,
      "wait_interval": 0
     }
    },
    "colab_type": "code",
    "id": "VnS_HWuIXmGR"
   },
   "outputs": [],
   "source": [
    "def rectangular(n1, n2):\n",
    "    if n1 == M1:\n",
    "        return 1\n",
    "    if n2 == M2:\n",
    "        return 0\n",
    "    return 2"
   ]
  },
  {
   "cell_type": "code",
   "execution_count": 0,
   "metadata": {
    "colab": {
     "autoexec": {
      "startup": false,
      "wait_interval": 0
     }
    },
    "colab_type": "code",
    "id": "6HaEtNCrZwZA"
   },
   "outputs": [],
   "source": [
    "def majority(n1, n2, M):\n",
    "    if n1 == ((M + 1) / 2):\n",
    "        return 1\n",
    "    if n2 == ((M + 1) / 2):\n",
    "        return 0\n",
    "    return 2"
   ]
  },
  {
   "cell_type": "code",
   "execution_count": 0,
   "metadata": {
    "colab": {
     "autoexec": {
      "startup": false,
      "wait_interval": 0
     }
    },
    "colab_type": "code",
    "id": "EpUFIzv0aQc-"
   },
   "outputs": [],
   "source": [
    "def treshold(n1,n2):\n",
    "    if tresh1 < tresh2:\n",
    "        print(\"incorrect threshold configuration... will be reversed\")\n",
    "        treshapp1=tresh2\n",
    "        treshapp2=tresh1\n",
    "    else:\n",
    "        treshapp1=tresh1\n",
    "        treshapp2=tresh2\n",
    "        \n",
    "    if treshapp1<=pr1n1n2(n1,n2):\n",
    "        return 1\n",
    "    else:\n",
    "        if treshapp2>pr0n1n2(n1,n2):\n",
    "        #if treshapp1 < pr0n1n2(n1, n2):\n",
    "            return 0\n",
    "        else:\n",
    "            return majority(n1,n2,M)"
   ]
  },
  {
   "cell_type": "markdown",
   "metadata": {
    "colab_type": "text",
    "id": "WlyWzgkjeIYU"
   },
   "source": [
    "##Calcolo di Y per ogni punto e di Y(0,0) ottimale\n",
    "\n"
   ]
  },
  {
   "cell_type": "code",
   "execution_count": 0,
   "metadata": {
    "colab": {
     "autoexec": {
      "startup": false,
      "wait_interval": 0
     }
    },
    "colab_type": "code",
    "id": "MRmzL-iDeTQr"
   },
   "outputs": [],
   "source": [
    "def Y(n1, n2, Y0, strategy=rectangular):\n",
    "    if n1 == n2 == 0:\n",
    "        return Y0\n",
    "    if strategy(n1, n2) == 0:\n",
    "        return Y0\n",
    "    if strategy(n1, n2) == 1:\n",
    "        return 0\n",
    "    return min(Y0,\n",
    "               1 + p1(n1, n2) * Y(n1 + 1, n2, Y0,  strategy=strategy)\n",
    "               + p0(n1, n2) * Y(n1, n2 + 1, Y0, strategy=strategy))\n",
    "\n",
    "\n",
    "def Y00():\n",
    "    max_error = 1e-2\n",
    "    max_iterations = 50\n",
    "    found = False\n",
    "    i = 0\n",
    "\n",
    "    current_max = 500\n",
    "    current_min = 0\n",
    "\n",
    "    while not found:\n",
    "        if i == max_iterations:\n",
    "            raise Exception(\"Max Iterations\")\n",
    "\n",
    "        candidate_y00 = current_min + (current_max - current_min) / 2.0\n",
    "\n",
    "     \n",
    "        estimated_Y00 = 1 + p1(0, 0) * Y(1, 0,candidate_y00) + p0(0, 0) * Y(0, 1,candidate_y00)\n",
    "\n",
    "        error = abs(estimated_Y00 - candidate_y00)\n",
    "        print(\n",
    "        \"[i] trying Y(0, 0) = %s, estimated Y(0, 0) is %s with error: %s\" % (\n",
    "        str(candidate_y00), str(estimated_Y00), str(error)))\n",
    "\n",
    "        found = error <= max_error\n",
    "\n",
    "        if estimated_Y00 < candidate_y00:\n",
    "            current_max = candidate_y00\n",
    "        else:\n",
    "            current_min = candidate_y00\n",
    "\n",
    "        i += 1\n",
    "    return candidate_y00"
   ]
  },
  {
   "cell_type": "markdown",
   "metadata": {
    "colab_type": "text",
    "id": "217aCLNoezHg"
   },
   "source": [
    "#Main e altre funzioni di supporto"
   ]
  },
  {
   "cell_type": "code",
   "execution_count": 0,
   "metadata": {
    "colab": {
     "autoexec": {
      "startup": false,
      "wait_interval": 0
     }
    },
    "colab_type": "code",
    "id": "F4l5Pt8yeyc5"
   },
   "outputs": [],
   "source": [
    "def inizializzazione(TotalItems, selectivity):\n",
    "    Item=[]\n",
    "    i=0\n",
    "    while(i <= TotalItems):\n",
    "        while(i <= TotalItems * selectivity):\n",
    "            Item.append(1)\n",
    "            i+=1\n",
    "        Item.append(0)\n",
    "        i+=1\n",
    "    random.shuffle(Item)\n",
    "    Strategy={}\n",
    "    c=0\n",
    "    while(c < TotalItems):\n",
    "        Strategy[c]=[(0,0)]\n",
    "        c+=1\n",
    "    #print(Strategy)\n",
    "    return Item, Strategy\n",
    "\n",
    "\n",
    "def min2(Y,n,Strategy):\n",
    "\n",
    "    app=Strategy.copy()\n",
    "    lower=[]\n",
    "    while len(lower) < n:\n",
    "        low=99999\n",
    "        for key in app:\n",
    "            if (Y[app[key][0]]<low):\n",
    "                low=Y[app[key][0]]\n",
    "                chiave=key\n",
    "        lower.append(chiave)\n",
    "        del app[chiave]\n",
    "    return lower\n",
    "\n",
    "\n",
    "\n",
    "\n",
    "\n",
    "# Inizio MAIN\n",
    "\n",
    "def main():\n",
    "\n",
    "    Item, Strategy = inizializzazione(TotalItems, selectivity)\n",
    "    Y0=Y00()\n",
    "    l=[]\n",
    "    y={}\n",
    "\n",
    "    #u=Item.copy()\n",
    "    app=[]\n",
    "\n",
    "    #aggiorno elenco delle y note con i nuovi punti della strategia\n",
    "    for key in Strategy:\n",
    "        if(not Strategy[key] in app):\n",
    "            app.append(Strategy[key])\n",
    "\n",
    "    for ap in app:\n",
    "        if(not ap[0] in y):\n",
    "            y[ap[0]]=Y(ap[0][0], ap[0][1], Y0)\n",
    "\n",
    "    fasi=0\n",
    "    domande=0\n",
    "    while(len(l)<K):\n",
    "        fasi+=1\n",
    "        I2=min2(y,K-len(l),Strategy)\n",
    "        cq={}\n",
    "\n",
    "        for i in I2:\n",
    "            n1=M1-Strategy[i][0][0]\n",
    "            n2=M2-Strategy[i][0][1]\n",
    "            cq[i] =min(n1,n2)\n",
    "            domande+=cq[i]\n",
    "\n",
    "        for i in cq:\n",
    "            c=0\n",
    "            while(c<cq[i]):\n",
    "                #simulo crowdsourcing\n",
    "                if(random.random()>errorRate):\n",
    "                    if(Item[i]==1):\n",
    "                        a=Strategy[i][0][0]+1\n",
    "                        b=Strategy[i][0][1]\n",
    "                    else:\n",
    "                        a = Strategy[i][0][0]\n",
    "                        b = Strategy[i][0][1]+1\n",
    "                    Strategy[i]=[(a,b)]\n",
    "                else:\n",
    "                    if (Item[i] == 1):\n",
    "                        a = Strategy[i][0][0]\n",
    "                        b = Strategy[i][0][1]+1\n",
    "                    else:\n",
    "                        a = Strategy[i][0][0]+1\n",
    "                        b = Strategy[i][0][1]\n",
    "                    Strategy[i] = [(a, b)]\n",
    "                c+=1\n",
    "        for i in cq:\n",
    "            if rectangular(Strategy[i][0][0],Strategy[i][0][1])==1:\n",
    "                l.append(i)\n",
    "                del(Strategy[i])\n",
    "            else:\n",
    "                if rectangular(Strategy[i][0][0],Strategy[i][0][1])==0:\n",
    "                    del(Strategy[i])\n",
    "                else:\n",
    "                    if not Strategy[i][0] in y:\n",
    "                        y[Strategy[i][0]]=Y(Strategy[i][0][0], Strategy[i][0][1], Y0)\n",
    "\n",
    "    #print(\"oggetti\")\n",
    "    uni=0\n",
    "    print(\"gli elementi selezionati sono :\")\n",
    "    for p in l:\n",
    "        if(Item[p]==1):\n",
    "            uni+=1\n",
    "        \n",
    "        print(p,Item[p])\n",
    "\n",
    "    accuracy=uni/float(len(l))\n",
    "    print(\"accuracy: \"+ str(accuracy)+\"\\n\")\n",
    "    print(\"risultato ottenuto in:\\n\"+\"\\tfasi: \"+str(fasi)+\"\\n\"+\"\\tdomande:\"+str(domande) )"
   ]
  },
  {
   "cell_type": "code",
   "execution_count": 0,
   "metadata": {
    "colab": {
     "autoexec": {
      "startup": false,
      "wait_interval": 0
     }
    },
    "colab_type": "code",
    "id": "TLA9Uy3efOgS"
   },
   "outputs": [],
   "source": [
    "import random\n",
    "\n",
    "M1 = 10\n",
    "tresh1=0.5\n",
    "tresh2=0.3\n",
    "M=20\n",
    "M2 = 10\n",
    "TotalItems=1000000\n",
    "K = 15\n",
    "#Y0 = 30\n",
    "errorRate = 0.35\n",
    "selectivity = 0.2"
   ]
  },
  {
   "cell_type": "code",
   "execution_count": 12,
   "metadata": {
    "colab": {
     "autoexec": {
      "startup": false,
      "wait_interval": 0
     },
     "base_uri": "https://localhost:8080/",
     "height": 538
    },
    "colab_type": "code",
    "executionInfo": {
     "elapsed": 44970,
     "status": "ok",
     "timestamp": 1529940552973,
     "user": {
      "displayName": "Patrizio Di Fraia",
      "photoUrl": "https://lh3.googleusercontent.com/a/default-user=s128",
      "userId": "102239266794450120694"
     },
     "user_tz": -120
    },
    "id": "MFkJlWdSfflL",
    "outputId": "5f4349e3-ddd9-4b7a-d8c3-c1d8eba719a5"
   },
   "outputs": [
    {
     "name": "stdout",
     "output_type": "stream",
     "text": [
      "[i] trying Y(0, 0) = 250.0, estimated Y(0, 0) is 200.558385822 with error: 49.4416141778\n",
      "[i] trying Y(0, 0) = 125.0, estimated Y(0, 0) is 106.202810073 with error: 18.7971899274\n",
      "[i] trying Y(0, 0) = 62.5, estimated Y(0, 0) is 57.8696350144 with error: 4.63036498564\n",
      "[i] trying Y(0, 0) = 31.25, estimated Y(0, 0) is 31.6078547886 with error: 0.357854788594\n",
      "[i] trying Y(0, 0) = 46.875, estimated Y(0, 0) is 45.2038191068 with error: 1.67118089324\n",
      "[i] trying Y(0, 0) = 39.0625, estimated Y(0, 0) is 38.4539423342 with error: 0.608557665787\n",
      "[i] trying Y(0, 0) = 35.15625, estimated Y(0, 0) is 35.0363869298 with error: 0.119863070206\n",
      "[i] trying Y(0, 0) = 33.203125, estimated Y(0, 0) is 33.3235195702 with error: 0.120394570221\n",
      "[i] trying Y(0, 0) = 34.1796875, estimated Y(0, 0) is 34.1813406249 with error: 0.00165312493009\n",
      "gli elementi selezionati sono :\n",
      "(5, 1)\n",
      "(1, 1)\n",
      "(13, 1)\n",
      "(15, 1)\n",
      "(20, 1)\n",
      "(23, 1)\n",
      "(28, 1)\n",
      "(30, 0)\n",
      "(35, 0)\n",
      "(42, 1)\n",
      "(47, 1)\n",
      "(59, 1)\n",
      "(60, 1)\n",
      "(64, 1)\n",
      "(68, 1)\n",
      "accuracy: 0.866666666667\n",
      "\n",
      "risultato ottenuto in:\n",
      "\tfasi: 48\n",
      "\tdomande:1069\n"
     ]
    }
   ],
   "source": [
    "main()"
   ]
  },
  {
   "cell_type": "markdown",
   "metadata": {
    "colab_type": "text",
    "id": "STnrJ-iQlGHm"
   },
   "source": [
    "###vari grafici tabelle e risultati ottenuti si potrebbe mettere anche lo script lanciato su azure"
   ]
  },
  {
   "cell_type": "markdown",
   "metadata": {
    "colab_type": "text",
    "id": "oZlBc8EllQXe"
   },
   "source": [
    "#Scenari alternativi , parte 2.0"
   ]
  },
  {
   "cell_type": "code",
   "execution_count": 0,
   "metadata": {
    "colab": {
     "autoexec": {
      "startup": false,
      "wait_interval": 0
     }
    },
    "colab_type": "code",
    "id": "DZ7gQ4DilNvv"
   },
   "outputs": [],
   "source": []
  }
 ],
 "metadata": {
  "colab": {
   "default_view": {},
   "name": "Agiw.ipynb",
   "provenance": [],
   "version": "0.3.2",
   "views": {}
  },
  "kernelspec": {
   "display_name": "Python 3",
   "language": "python",
   "name": "python3"
  },
  "language_info": {
   "codemirror_mode": {
    "name": "ipython",
    "version": 3
   },
   "file_extension": ".py",
   "mimetype": "text/x-python",
   "name": "python",
   "nbconvert_exporter": "python",
   "pygments_lexer": "ipython3",
   "version": "3.5.2"
  }
 },
 "nbformat": 4,
 "nbformat_minor": 1
}
